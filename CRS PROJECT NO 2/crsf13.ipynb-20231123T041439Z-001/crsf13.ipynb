{
 "cells": [
  {
   "cell_type": "markdown",
   "id": "24754a68-ccfd-4860-a057-ebc384a25674",
   "metadata": {},
   "source": [
    "## Import the libraries"
   ]
  },
  {
   "cell_type": "code",
   "execution_count": 1,
   "id": "20034663-cfd7-432e-bb62-8605e0eab027",
   "metadata": {
    "tags": []
   },
   "outputs": [
    {
     "name": "stderr",
     "output_type": "stream",
     "text": [
      "/home/ec2-user/anaconda3/envs/python3/lib/python3.10/site-packages/pandas/core/computation/expressions.py:21: UserWarning: Pandas requires version '2.8.0' or newer of 'numexpr' (version '2.7.3' currently installed).\n",
      "  from pandas.core.computation.check import NUMEXPR_INSTALLED\n"
     ]
    }
   ],
   "source": [
    "import time\n",
    "from time import sleep\n",
    "import json\n",
    "from datetime import datetime\n",
    "import boto3\n",
    "import pandas as pd"
   ]
  },
  {
   "cell_type": "markdown",
   "id": "2c5caba6-c6b7-46af-8bb6-c598262e496e",
   "metadata": {},
   "source": [
    "##  Fetch the dataset"
   ]
  },
  {
   "cell_type": "code",
   "execution_count": 9,
   "id": "a772cabc-18af-49e4-997e-6050205cb96d",
   "metadata": {
    "tags": []
   },
   "outputs": [
    {
     "data": {
      "text/html": [
       "<div>\n",
       "<style scoped>\n",
       "    .dataframe tbody tr th:only-of-type {\n",
       "        vertical-align: middle;\n",
       "    }\n",
       "\n",
       "    .dataframe tbody tr th {\n",
       "        vertical-align: top;\n",
       "    }\n",
       "\n",
       "    .dataframe thead th {\n",
       "        text-align: right;\n",
       "    }\n",
       "</style>\n",
       "<table border=\"1\" class=\"dataframe\">\n",
       "  <thead>\n",
       "    <tr style=\"text-align: right;\">\n",
       "      <th></th>\n",
       "      <th>USER_ID</th>\n",
       "      <th>ITEM_ID</th>\n",
       "      <th>EVENT_TYPE</th>\n",
       "      <th>TIMESTAMP</th>\n",
       "    </tr>\n",
       "  </thead>\n",
       "  <tbody>\n",
       "    <tr>\n",
       "      <th>0</th>\n",
       "      <td>812353</td>\n",
       "      <td>4429430</td>\n",
       "      <td>view</td>\n",
       "      <td>1603045800</td>\n",
       "    </tr>\n",
       "    <tr>\n",
       "      <th>1</th>\n",
       "      <td>239494</td>\n",
       "      <td>8391177</td>\n",
       "      <td>click</td>\n",
       "      <td>1611945000</td>\n",
       "    </tr>\n",
       "    <tr>\n",
       "      <th>2</th>\n",
       "      <td>774544</td>\n",
       "      <td>5758296</td>\n",
       "      <td>view</td>\n",
       "      <td>1636914600</td>\n",
       "    </tr>\n",
       "    <tr>\n",
       "      <th>3</th>\n",
       "      <td>255308</td>\n",
       "      <td>1784357</td>\n",
       "      <td>view</td>\n",
       "      <td>1548441000</td>\n",
       "    </tr>\n",
       "    <tr>\n",
       "      <th>4</th>\n",
       "      <td>348298</td>\n",
       "      <td>3921147</td>\n",
       "      <td>view</td>\n",
       "      <td>1561573800</td>\n",
       "    </tr>\n",
       "  </tbody>\n",
       "</table>\n",
       "</div>"
      ],
      "text/plain": [
       "  USER_ID  ITEM_ID EVENT_TYPE   TIMESTAMP\n",
       "0  812353  4429430       view  1603045800\n",
       "1  239494  8391177      click  1611945000\n",
       "2  774544  5758296       view  1636914600\n",
       "3  255308  1784357       view  1548441000\n",
       "4  348298  3921147       view  1561573800"
      ]
     },
     "execution_count": 9,
     "metadata": {},
     "output_type": "execute_result"
    }
   ],
   "source": [
    "import pandas as pd\n",
    "import boto3\n",
    "import io\n",
    "bucket='crs-f13'\n",
    "file_key = 'user_interactions.csv'\n",
    "s3_client = boto3.client('s3')\n",
    "obj = s3_client.get_object(Bucket=bucket, Key=file_key)\n",
    "df = pd.read_csv(io.BytesIO(obj['Body'].read()))\n",
    "df.head()"
   ]
  },
  {
   "cell_type": "code",
   "execution_count": 10,
   "id": "8c048906-d219-4525-b49c-0c54a7219feb",
   "metadata": {
    "tags": []
   },
   "outputs": [
    {
     "name": "stdout",
     "output_type": "stream",
     "text": [
      "<class 'pandas.core.frame.DataFrame'>\n",
      "RangeIndex: 20000 entries, 0 to 19999\n",
      "Data columns (total 4 columns):\n",
      " #   Column      Non-Null Count  Dtype \n",
      "---  ------      --------------  ----- \n",
      " 0   USER_ID     20000 non-null  object\n",
      " 1   ITEM_ID     20000 non-null  int64 \n",
      " 2   EVENT_TYPE  20000 non-null  object\n",
      " 3   TIMESTAMP   20000 non-null  int64 \n",
      "dtypes: int64(2), object(2)\n",
      "memory usage: 625.1+ KB\n",
      "None\n"
     ]
    },
    {
     "data": {
      "text/html": [
       "<div>\n",
       "<style scoped>\n",
       "    .dataframe tbody tr th:only-of-type {\n",
       "        vertical-align: middle;\n",
       "    }\n",
       "\n",
       "    .dataframe tbody tr th {\n",
       "        vertical-align: top;\n",
       "    }\n",
       "\n",
       "    .dataframe thead th {\n",
       "        text-align: right;\n",
       "    }\n",
       "</style>\n",
       "<table border=\"1\" class=\"dataframe\">\n",
       "  <thead>\n",
       "    <tr style=\"text-align: right;\">\n",
       "      <th></th>\n",
       "      <th>USER_ID</th>\n",
       "      <th>ITEM_ID</th>\n",
       "      <th>EVENT_TYPE</th>\n",
       "      <th>TIMESTAMP</th>\n",
       "    </tr>\n",
       "  </thead>\n",
       "  <tbody>\n",
       "    <tr>\n",
       "      <th>0</th>\n",
       "      <td>812353</td>\n",
       "      <td>4429430</td>\n",
       "      <td>view</td>\n",
       "      <td>1603045800</td>\n",
       "    </tr>\n",
       "    <tr>\n",
       "      <th>1</th>\n",
       "      <td>239494</td>\n",
       "      <td>8391177</td>\n",
       "      <td>click</td>\n",
       "      <td>1611945000</td>\n",
       "    </tr>\n",
       "    <tr>\n",
       "      <th>2</th>\n",
       "      <td>774544</td>\n",
       "      <td>5758296</td>\n",
       "      <td>view</td>\n",
       "      <td>1636914600</td>\n",
       "    </tr>\n",
       "    <tr>\n",
       "      <th>3</th>\n",
       "      <td>255308</td>\n",
       "      <td>1784357</td>\n",
       "      <td>view</td>\n",
       "      <td>1548441000</td>\n",
       "    </tr>\n",
       "    <tr>\n",
       "      <th>4</th>\n",
       "      <td>348298</td>\n",
       "      <td>3921147</td>\n",
       "      <td>view</td>\n",
       "      <td>1561573800</td>\n",
       "    </tr>\n",
       "  </tbody>\n",
       "</table>\n",
       "</div>"
      ],
      "text/plain": [
       "  USER_ID  ITEM_ID EVENT_TYPE   TIMESTAMP\n",
       "0  812353  4429430       view  1603045800\n",
       "1  239494  8391177      click  1611945000\n",
       "2  774544  5758296       view  1636914600\n",
       "3  255308  1784357       view  1548441000\n",
       "4  348298  3921147       view  1561573800"
      ]
     },
     "execution_count": 10,
     "metadata": {},
     "output_type": "execute_result"
    }
   ],
   "source": [
    "original_data = df\n",
    "print(original_data.info())\n",
    "original_data.head()"
   ]
  },
  {
   "cell_type": "markdown",
   "id": "6847ca7e-31f0-42da-99fa-93be00b99aa8",
   "metadata": {},
   "source": [
    "## Prepare the data"
   ]
  },
  {
   "cell_type": "code",
   "execution_count": 16,
   "id": "cce85125-fa9d-474d-be52-936db327ac01",
   "metadata": {
    "tags": []
   },
   "outputs": [],
   "source": [
    "watched_df = original_data.copy()\n",
    "watched_df = watched_df[['USER_ID', 'ITEM_ID', 'TIMESTAMP']]\n",
    "watched_df['EVENT_TYPE']='view'\n",
    "\n",
    "clicked_df = original_data.copy()\n",
    "clicked_df = clicked_df[['USER_ID', 'ITEM_ID', 'TIMESTAMP']]\n",
    "clicked_df['EVENT_TYPE']='click'\n",
    "\n",
    "interactions_df = clicked_df.copy()\n",
    "# interactions_df = interactions_df.append(watched_df)\n",
    "interactions_df = pd.concat([interactions_df, watched_df])\n",
    "interactions_df.sort_values(\"TIMESTAMP\", axis = 0, ascending = True, inplace = True, na_position ='last')"
   ]
  },
  {
   "cell_type": "code",
   "execution_count": 17,
   "id": "ca80a5dd-cb05-4dcb-9c14-19f154eb3b63",
   "metadata": {
    "tags": []
   },
   "outputs": [],
   "source": [
    "interactions_df.rename(columns = {'USER_ID':'USER_ID', 'ITEM_ID':'ITEM_ID', 'TIMESTAMP':'TIMESTAMP'}, inplace = True) \n",
    "interactions_filename = \"interactions.csv\"\n",
    "interactions_df.to_csv((interactions_filename), index=False, float_format='%.0f')"
   ]
  },
  {
   "cell_type": "markdown",
   "id": "bc5be0eb-f552-4913-8e5e-17c7b116042d",
   "metadata": {},
   "source": [
    "## Create the dataset group"
   ]
  },
  {
   "cell_type": "code",
   "execution_count": 19,
   "id": "9ad35bee-03c2-4703-b39d-05cd36c0824c",
   "metadata": {
    "tags": []
   },
   "outputs": [
    {
     "name": "stdout",
     "output_type": "stream",
     "text": [
      "{\n",
      "  \"datasetGroupArn\": \"arn:aws:personalize:ap-south-1:327664300428:dataset-group/personalize-demo-crs1\",\n",
      "  \"ResponseMetadata\": {\n",
      "    \"RequestId\": \"0b10c41e-8975-4a19-9512-c7c16cdd263a\",\n",
      "    \"HTTPStatusCode\": 200,\n",
      "    \"HTTPHeaders\": {\n",
      "      \"date\": \"Thu, 16 Nov 2023 19:26:15 GMT\",\n",
      "      \"content-type\": \"application/x-amz-json-1.1\",\n",
      "      \"content-length\": \"101\",\n",
      "      \"connection\": \"keep-alive\",\n",
      "      \"x-amzn-requestid\": \"0b10c41e-8975-4a19-9512-c7c16cdd263a\"\n",
      "    },\n",
      "    \"RetryAttempts\": 0\n",
      "  }\n",
      "}\n"
     ]
    }
   ],
   "source": [
    "# Configure the SDK to Personalize:\n",
    "personalize = boto3.client('personalize')\n",
    "personalize_runtime = boto3.client('personalize-runtime')\n",
    "\n",
    "create_dataset_group_response = personalize.create_dataset_group(\n",
    "    name = \"personalize-demo-crs1\"\n",
    ")\n",
    "\n",
    "dataset_group_arn = create_dataset_group_response['datasetGroupArn']\n",
    "print(json.dumps(create_dataset_group_response, indent=2))"
   ]
  },
  {
   "cell_type": "code",
   "execution_count": 20,
   "id": "01e11c64-d905-46be-a9b1-ee506dd26f53",
   "metadata": {
    "tags": []
   },
   "outputs": [
    {
     "name": "stdout",
     "output_type": "stream",
     "text": [
      "DatasetGroup: CREATE PENDING\n",
      "DatasetGroup: ACTIVE\n",
      "CPU times: user 31.5 ms, sys: 4.48 ms, total: 36 ms\n",
      "Wall time: 1min\n"
     ]
    }
   ],
   "source": [
    "%%time\n",
    "max_time = time.time() + 3*60*60 # 3 hours\n",
    "while time.time() < max_time:\n",
    "    describe_dataset_group_response = personalize.describe_dataset_group(\n",
    "        datasetGroupArn = dataset_group_arn\n",
    "    )\n",
    "    status = describe_dataset_group_response[\"datasetGroup\"][\"status\"]\n",
    "    print(\"DatasetGroup: {}\".format(status))\n",
    "    \n",
    "    if status == \"ACTIVE\" or status == \"CREATE FAILED\":\n",
    "        break\n",
    "        \n",
    "    time.sleep(60)"
   ]
  },
  {
   "cell_type": "markdown",
   "id": "f602b627-67db-429e-853a-6f40f615446c",
   "metadata": {},
   "source": [
    "## Create the schema and dataset"
   ]
  },
  {
   "cell_type": "code",
   "execution_count": 22,
   "id": "5def58e6-564f-46e9-8fc8-04a2e5590cf7",
   "metadata": {
    "tags": []
   },
   "outputs": [
    {
     "name": "stdout",
     "output_type": "stream",
     "text": [
      "{\n",
      "  \"schemaArn\": \"arn:aws:personalize:ap-south-1:327664300428:schema/personalize-demo-int\",\n",
      "  \"ResponseMetadata\": {\n",
      "    \"RequestId\": \"749c50a8-edde-4c5b-8d87-b04724d543f2\",\n",
      "    \"HTTPStatusCode\": 200,\n",
      "    \"HTTPHeaders\": {\n",
      "      \"date\": \"Thu, 16 Nov 2023 19:29:01 GMT\",\n",
      "      \"content-type\": \"application/x-amz-json-1.1\",\n",
      "      \"content-length\": \"87\",\n",
      "      \"connection\": \"keep-alive\",\n",
      "      \"x-amzn-requestid\": \"749c50a8-edde-4c5b-8d87-b04724d543f2\"\n",
      "    },\n",
      "    \"RetryAttempts\": 0\n",
      "  }\n",
      "}\n",
      "{\n",
      "  \"datasetArn\": \"arn:aws:personalize:ap-south-1:327664300428:dataset/personalize-demo-crs1/INTERACTIONS\",\n",
      "  \"ResponseMetadata\": {\n",
      "    \"RequestId\": \"2541ee38-ea4d-4fdc-b9ad-3d584705acb5\",\n",
      "    \"HTTPStatusCode\": 200,\n",
      "    \"HTTPHeaders\": {\n",
      "      \"date\": \"Thu, 16 Nov 2023 19:29:01 GMT\",\n",
      "      \"content-type\": \"application/x-amz-json-1.1\",\n",
      "      \"content-length\": \"103\",\n",
      "      \"connection\": \"keep-alive\",\n",
      "      \"x-amzn-requestid\": \"2541ee38-ea4d-4fdc-b9ad-3d584705acb5\"\n",
      "    },\n",
      "    \"RetryAttempts\": 0\n",
      "  }\n",
      "}\n"
     ]
    }
   ],
   "source": [
    "interactions_schema = {\n",
    "    \"type\": \"record\",\n",
    "    \"name\": \"Interactions\",\n",
    "    \"namespace\": \"com.amazonaws.personalize.schema\",\n",
    "    \"fields\": [\n",
    "        {\n",
    "            \"name\": \"USER_ID\",\n",
    "            \"type\": \"string\"\n",
    "        },\n",
    "        {\n",
    "            \"name\": \"ITEM_ID\",\n",
    "            \"type\": \"string\"\n",
    "        },\n",
    "        {\n",
    "            \"name\": \"EVENT_TYPE\",\n",
    "            \"type\": \"string\"\n",
    "        },\n",
    "        {\n",
    "            \"name\": \"TIMESTAMP\",\n",
    "            \"type\": \"long\"\n",
    "        }\n",
    "    ],\n",
    "    \"version\": \"1.0\"\n",
    "}\n",
    "\n",
    "create_schema_response = personalize.create_schema(\n",
    "    name = \"personalize-demo-int\",\n",
    "    schema = json.dumps(interactions_schema)\n",
    ")\n",
    "\n",
    "interaction_schema_arn = create_schema_response['schemaArn']\n",
    "print(json.dumps(create_schema_response, indent=2))\n",
    "\n",
    "dataset_type = \"INTERACTIONS\"\n",
    "create_dataset_response = personalize.create_dataset(\n",
    "    name = \"personalize-demo-crs1\",\n",
    "    datasetType = dataset_type,\n",
    "    datasetGroupArn = dataset_group_arn,\n",
    "    schemaArn = interaction_schema_arn\n",
    ")\n",
    "\n",
    "interactions_dataset_arn = create_dataset_response['datasetArn']\n",
    "print(json.dumps(create_dataset_response, indent=2))\n"
   ]
  },
  {
   "cell_type": "markdown",
   "id": "2c2e2561-8057-4ed6-891c-9db2357b53fb",
   "metadata": {},
   "source": [
    "## Create Amazon S3 bucket and upload data"
   ]
  },
  {
   "cell_type": "code",
   "execution_count": 23,
   "id": "a8bfc2e3-e7b6-4fe1-9edf-3b726301b7f8",
   "metadata": {
    "tags": []
   },
   "outputs": [
    {
     "name": "stdout",
     "output_type": "stream",
     "text": [
      "327664300428-ap-south-1-crs-f13\n"
     ]
    }
   ],
   "source": [
    "session = boto3.session.Session()\n",
    "region = session.region_name\n",
    "s3 = boto3.client('s3')\n",
    "account_id = boto3.client('sts').get_caller_identity().get('Account')\n",
    "bucket_name = account_id + \"-\" + region + \"-\" + \"crs-f13\"\n",
    "print(bucket_name)\n",
    "if region == \"us-east-1\":\n",
    "    s3.create_bucket(Bucket=bucket_name)\n",
    "else:\n",
    "    s3.create_bucket(\n",
    "        Bucket=bucket_name,\n",
    "        CreateBucketConfiguration={'LocationConstraint': region}\n",
    "        )"
   ]
  },
  {
   "cell_type": "code",
   "execution_count": 24,
   "id": "e42afa84-3fe4-4abc-ad33-fb2e99b57673",
   "metadata": {
    "tags": []
   },
   "outputs": [],
   "source": [
    "interactions_file_path = data_dir + \"/\" + interactions_filename\n",
    "boto3.Session().resource('s3').Bucket(bucket_name).Object(interactions_filename).upload_file(interactions_file_path)\n",
    "interactions_s3DataPath = \"s3://\"+bucket_name+\"/\"+interactions_filename"
   ]
  },
  {
   "cell_type": "markdown",
   "id": "60271048-372c-4b48-97db-0c2b8e5555f3",
   "metadata": {},
   "source": [
    "## Configure S3 bucket policy"
   ]
  },
  {
   "cell_type": "code",
   "execution_count": 25,
   "id": "1bfd5385-219d-434c-a9d0-9e4a942e9731",
   "metadata": {
    "tags": []
   },
   "outputs": [
    {
     "data": {
      "text/plain": [
       "{'ResponseMetadata': {'RequestId': 'Y5EXG9D45Q8KERDH',\n",
       "  'HostId': 'Itj2x/LSjr8xtgTt2rqmgTvnjfJHAsC0ZqVqVdW4l0VTcIASHoWmuRTjZrZk+ZixI1chTSP2C7MZUbyC9v1OAQ==',\n",
       "  'HTTPStatusCode': 204,\n",
       "  'HTTPHeaders': {'x-amz-id-2': 'Itj2x/LSjr8xtgTt2rqmgTvnjfJHAsC0ZqVqVdW4l0VTcIASHoWmuRTjZrZk+ZixI1chTSP2C7MZUbyC9v1OAQ==',\n",
       "   'x-amz-request-id': 'Y5EXG9D45Q8KERDH',\n",
       "   'date': 'Thu, 16 Nov 2023 19:30:20 GMT',\n",
       "   'server': 'AmazonS3'},\n",
       "  'RetryAttempts': 0}}"
      ]
     },
     "execution_count": 25,
     "metadata": {},
     "output_type": "execute_result"
    }
   ],
   "source": [
    "policy = {\n",
    "    \"Version\": \"2012-10-17\",\n",
    "    \"Id\": \"PersonalizeS3BucketAccessPolicy\",\n",
    "    \"Statement\": [\n",
    "        {\n",
    "            \"Sid\": \"PersonalizeS3BucketAccessPolicy\",\n",
    "            \"Effect\": \"Allow\",\n",
    "            \"Principal\": {\n",
    "                \"Service\": \"personalize.amazonaws.com\"\n",
    "            },\n",
    "            \"Action\": [\n",
    "                \"s3:*Object\",\n",
    "                \"s3:ListBucket\"\n",
    "            ],\n",
    "            \"Resource\": [\n",
    "                \"arn:aws:s3:::{}\".format(bucket_name),\n",
    "                \"arn:aws:s3:::{}/*\".format(bucket_name)\n",
    "            ]\n",
    "        }\n",
    "    ]\n",
    "}\n",
    "\n",
    "s3.put_bucket_policy(Bucket=bucket_name, Policy=json.dumps(policy))"
   ]
  },
  {
   "cell_type": "code",
   "execution_count": null,
   "id": "422e97df-e1cc-4a0c-969f-c6240c5c9637",
   "metadata": {
    "tags": []
   },
   "outputs": [],
   "source": [
    "iam = boto3.client(\"iam\")\n",
    "\n",
    "role_name = \"PersonalizeRolePOC\"\n",
    "assume_role_policy_document = {\n",
    "    \"Version\": \"2012-10-17\",\n",
    "    \"Statement\": [\n",
    "        {\n",
    "          \"Effect\": \"Allow\",\n",
    "          \"Principal\": {\n",
    "            \"Service\": \"personalize.amazonaws.com\"\n",
    "          },\n",
    "          \"Action\": \"sts:AssumeRole\"\n",
    "        }\n",
    "    ]\n",
    "}\n",
    "\n",
    "create_role_response = iam.create_role(\n",
    "    RoleName = role_name,\n",
    "    AssumeRolePolicyDocument = json.dumps(assume_role_policy_document)\n",
    ")\n",
    "\n",
    "# AmazonPersonalizeFullAccess provides access to any S3 bucket with a name that includes \"personalize\" or \"Personalize\" \n",
    "# if you would like to use a bucket with a different name, please consider creating and attaching a new policy\n",
    "# that provides read access to your bucket or attaching the AmazonS3ReadOnlyAccess policy to the role\n",
    "policy_arn = \"arn:aws:iam::aws:policy/service-role/AmazonPersonalizeFullAccess\"\n",
    "iam.attach_role_policy(\n",
    "    RoleName = role_name,\n",
    "    PolicyArn = policy_arn\n",
    ")\n",
    "\n",
    "# Now add S3 support\n",
    "iam.attach_role_policy(\n",
    "    PolicyArn='arn:aws:iam::aws:policy/AmazonS3FullAccess',\n",
    "    RoleName=role_name\n",
    ")\n",
    "time.sleep(60) # wait for a minute to allow IAM role policy attachment to propagate\n",
    "\n",
    "role_arn = create_role_response[\"Role\"][\"Arn\"]\n",
    "print(role_arn)"
   ]
  },
  {
   "cell_type": "markdown",
   "id": "8b61b5b0-c89f-40b0-bda6-08a76f16325f",
   "metadata": {},
   "source": [
    "## Import the dataset into Amazon Personalize"
   ]
  },
  {
   "cell_type": "code",
   "execution_count": 15,
   "id": "2b2705fc-93ba-4699-81d6-30187cc55260",
   "metadata": {
    "tags": []
   },
   "outputs": [
    {
     "name": "stdout",
     "output_type": "stream",
     "text": [
      "{\n",
      "  \"datasetImportJobArn\": \"arn:aws:personalize:ap-south-1:327664300428:dataset-import-job/personalize-demo-import1\",\n",
      "  \"ResponseMetadata\": {\n",
      "    \"RequestId\": \"de56bc1a-78d1-436a-97da-24f20d2f417f\",\n",
      "    \"HTTPStatusCode\": 200,\n",
      "    \"HTTPHeaders\": {\n",
      "      \"date\": \"Sun, 12 Nov 2023 19:56:29 GMT\",\n",
      "      \"content-type\": \"application/x-amz-json-1.1\",\n",
      "      \"content-length\": \"113\",\n",
      "      \"connection\": \"keep-alive\",\n",
      "      \"x-amzn-requestid\": \"de56bc1a-78d1-436a-97da-24f20d2f417f\"\n",
      "    },\n",
      "    \"RetryAttempts\": 0\n",
      "  }\n",
      "}\n"
     ]
    }
   ],
   "source": [
    "create_dataset_import_job_response = personalize.create_dataset_import_job(\n",
    "    jobName = \"personalize-demo-import1\",\n",
    "    datasetArn = interactions_dataset_arn,\n",
    "    dataSource = {\n",
    "        \"dataLocation\": \"s3://{}/{}\".format(bucket_name, interactions_filename)\n",
    "    },\n",
    "    roleArn = role_arn\n",
    ")\n",
    "\n",
    "dataset_import_job_arn = create_dataset_import_job_response['datasetImportJobArn']\n",
    "print(json.dumps(create_dataset_import_job_response, indent=2))"
   ]
  },
  {
   "cell_type": "code",
   "execution_count": 16,
   "id": "3ef46c81-9b35-4492-a16f-02b5d8dea740",
   "metadata": {
    "tags": []
   },
   "outputs": [
    {
     "name": "stdout",
     "output_type": "stream",
     "text": [
      "DatasetImportJob: CREATE IN_PROGRESS\n",
      "DatasetImportJob: CREATE IN_PROGRESS\n",
      "DatasetImportJob: CREATE IN_PROGRESS\n",
      "DatasetImportJob: ACTIVE\n",
      "CPU times: user 79.5 ms, sys: 19.2 ms, total: 98.8 ms\n",
      "Wall time: 3min\n"
     ]
    }
   ],
   "source": [
    "%%time\n",
    "max_time = time.time() + 6*60*60 # 6 hours\n",
    "while time.time() < max_time:\n",
    "    describe_dataset_import_job_response = personalize.describe_dataset_import_job(\n",
    "        datasetImportJobArn = dataset_import_job_arn\n",
    "    )\n",
    "    status = describe_dataset_import_job_response[\"datasetImportJob\"]['status']\n",
    "    print(\"DatasetImportJob: {}\".format(status))\n",
    "    \n",
    "    if status == \"ACTIVE\" or status == \"CREATE FAILED\":\n",
    "        break\n",
    "        \n",
    "    time.sleep(60)"
   ]
  },
  {
   "cell_type": "markdown",
   "id": "306a7fc8-3cc6-4792-8448-64671bbea2f7",
   "metadata": {},
   "source": [
    " # Solution"
   ]
  },
  {
   "cell_type": "markdown",
   "id": "f6223f09-1d7f-4d6f-b99c-237810a5cffd",
   "metadata": {},
   "source": [
    "## Choose a recipe"
   ]
  },
  {
   "cell_type": "code",
   "execution_count": 17,
   "id": "07a7bf39-c7e2-4a2d-a991-e6faf3cb5c85",
   "metadata": {
    "tags": []
   },
   "outputs": [],
   "source": [
    "# aws-user-personalization selected for demo purposes\n",
    "recipe_arn = \"arn:aws:personalize:::recipe/aws-user-personalization\""
   ]
  },
  {
   "cell_type": "markdown",
   "id": "12ec32d4-5286-414e-8621-85293784e16e",
   "metadata": {},
   "source": [
    "## Configure the solution"
   ]
  },
  {
   "cell_type": "code",
   "execution_count": 18,
   "id": "8d4ae66b-3e3b-4aef-8309-b3e5fb42ea4b",
   "metadata": {
    "tags": []
   },
   "outputs": [
    {
     "name": "stdout",
     "output_type": "stream",
     "text": [
      "{\n",
      "  \"solutionArn\": \"arn:aws:personalize:ap-south-1:327664300428:solution/personalize-demo-soln-user-personalization\",\n",
      "  \"ResponseMetadata\": {\n",
      "    \"RequestId\": \"f7387a08-27e4-4c61-9a1f-40df0ae19662\",\n",
      "    \"HTTPStatusCode\": 200,\n",
      "    \"HTTPHeaders\": {\n",
      "      \"date\": \"Sun, 12 Nov 2023 20:04:11 GMT\",\n",
      "      \"content-type\": \"application/x-amz-json-1.1\",\n",
      "      \"content-length\": \"113\",\n",
      "      \"connection\": \"keep-alive\",\n",
      "      \"x-amzn-requestid\": \"f7387a08-27e4-4c61-9a1f-40df0ae19662\"\n",
      "    },\n",
      "    \"RetryAttempts\": 0\n",
      "  }\n",
      "}\n"
     ]
    }
   ],
   "source": [
    "create_solution_response = personalize.create_solution(\n",
    "    name = \"personalize-demo-soln-user-personalization\",\n",
    "    datasetGroupArn = dataset_group_arn,\n",
    "    recipeArn = recipe_arn\n",
    ")\n",
    "\n",
    "solution_arn = create_solution_response['solutionArn']\n",
    "print(json.dumps(create_solution_response, indent=2))"
   ]
  },
  {
   "cell_type": "markdown",
   "id": "9a1377b9-4a4b-4263-868f-a083786d71be",
   "metadata": {},
   "source": [
    "## Create a solution version (train a model)"
   ]
  },
  {
   "cell_type": "code",
   "execution_count": 19,
   "id": "5f4d9028-97ad-43b7-bf48-50b619de5ca0",
   "metadata": {
    "tags": []
   },
   "outputs": [
    {
     "name": "stdout",
     "output_type": "stream",
     "text": [
      "{\n",
      "  \"solutionVersionArn\": \"arn:aws:personalize:ap-south-1:327664300428:solution/personalize-demo-soln-user-personalization/46aa2171\",\n",
      "  \"ResponseMetadata\": {\n",
      "    \"RequestId\": \"55e90994-d061-41ef-bd71-b2094d7415ce\",\n",
      "    \"HTTPStatusCode\": 200,\n",
      "    \"HTTPHeaders\": {\n",
      "      \"date\": \"Sun, 12 Nov 2023 20:04:42 GMT\",\n",
      "      \"content-type\": \"application/x-amz-json-1.1\",\n",
      "      \"content-length\": \"129\",\n",
      "      \"connection\": \"keep-alive\",\n",
      "      \"x-amzn-requestid\": \"55e90994-d061-41ef-bd71-b2094d7415ce\"\n",
      "    },\n",
      "    \"RetryAttempts\": 0\n",
      "  }\n",
      "}\n"
     ]
    }
   ],
   "source": [
    "create_solution_version_response = personalize.create_solution_version(\n",
    "    solutionArn = solution_arn\n",
    ")\n",
    "\n",
    "solution_version_arn = create_solution_version_response['solutionVersionArn']\n",
    "print(json.dumps(create_solution_version_response, indent=2))"
   ]
  },
  {
   "cell_type": "code",
   "execution_count": 20,
   "id": "4928fc4d-42a5-48ab-8fdf-ed4105499f71",
   "metadata": {
    "tags": []
   },
   "outputs": [
    {
     "name": "stdout",
     "output_type": "stream",
     "text": [
      "SolutionVersion: CREATE PENDING\n",
      "SolutionVersion: CREATE IN_PROGRESS\n",
      "SolutionVersion: CREATE IN_PROGRESS\n",
      "SolutionVersion: CREATE IN_PROGRESS\n",
      "SolutionVersion: CREATE IN_PROGRESS\n",
      "SolutionVersion: CREATE IN_PROGRESS\n",
      "SolutionVersion: CREATE IN_PROGRESS\n",
      "SolutionVersion: CREATE IN_PROGRESS\n",
      "SolutionVersion: CREATE IN_PROGRESS\n",
      "SolutionVersion: CREATE IN_PROGRESS\n",
      "SolutionVersion: CREATE IN_PROGRESS\n",
      "SolutionVersion: CREATE IN_PROGRESS\n",
      "SolutionVersion: CREATE IN_PROGRESS\n",
      "SolutionVersion: CREATE IN_PROGRESS\n",
      "SolutionVersion: CREATE IN_PROGRESS\n",
      "SolutionVersion: CREATE IN_PROGRESS\n",
      "SolutionVersion: CREATE IN_PROGRESS\n",
      "SolutionVersion: CREATE IN_PROGRESS\n",
      "SolutionVersion: ACTIVE\n",
      "CPU times: user 552 ms, sys: 28.8 ms, total: 581 ms\n",
      "Wall time: 18min 2s\n"
     ]
    }
   ],
   "source": [
    "%%time\n",
    "max_time = time.time() + 3*60*60 # 3 hours\n",
    "while time.time() < max_time:\n",
    "    describe_solution_version_response = personalize.describe_solution_version(\n",
    "        solutionVersionArn = solution_version_arn\n",
    "    )\n",
    "    status = describe_solution_version_response[\"solutionVersion\"][\"status\"]\n",
    "    print(\"SolutionVersion: {}\".format(status))\n",
    "    \n",
    "    if status == \"ACTIVE\" or status == \"CREATE FAILED\":\n",
    "        break\n",
    "        \n",
    "    time.sleep(60)"
   ]
  },
  {
   "cell_type": "markdown",
   "id": "0f5d4e45-e240-4c5f-a21a-66fe64c115f4",
   "metadata": {},
   "source": [
    "## Evaluate the solution version"
   ]
  },
  {
   "cell_type": "code",
   "execution_count": 21,
   "id": "bbd0a426-af8f-4159-9b5e-ab02d300f9d1",
   "metadata": {
    "tags": []
   },
   "outputs": [
    {
     "name": "stdout",
     "output_type": "stream",
     "text": [
      "{\n",
      "  \"solutionVersionArn\": \"arn:aws:personalize:ap-south-1:327664300428:solution/personalize-demo-soln-user-personalization/46aa2171\",\n",
      "  \"metrics\": {\n",
      "    \"coverage\": 0.0563,\n",
      "    \"mean_reciprocal_rank_at_25\": 0.0527,\n",
      "    \"normalized_discounted_cumulative_gain_at_10\": 0.0604,\n",
      "    \"normalized_discounted_cumulative_gain_at_25\": 0.1109,\n",
      "    \"normalized_discounted_cumulative_gain_at_5\": 0.0381,\n",
      "    \"precision_at_10\": 0.0179,\n",
      "    \"precision_at_25\": 0.0193,\n",
      "    \"precision_at_5\": 0.0143\n",
      "  },\n",
      "  \"ResponseMetadata\": {\n",
      "    \"RequestId\": \"5c92a5c0-d729-44a6-84b7-a68e34b94c7c\",\n",
      "    \"HTTPStatusCode\": 200,\n",
      "    \"HTTPHeaders\": {\n",
      "      \"date\": \"Sun, 12 Nov 2023 20:25:15 GMT\",\n",
      "      \"content-type\": \"application/x-amz-json-1.1\",\n",
      "      \"content-length\": \"427\",\n",
      "      \"connection\": \"keep-alive\",\n",
      "      \"x-amzn-requestid\": \"5c92a5c0-d729-44a6-84b7-a68e34b94c7c\"\n",
      "    },\n",
      "    \"RetryAttempts\": 0\n",
      "  }\n",
      "}\n"
     ]
    }
   ],
   "source": [
    "get_solution_metrics_response = personalize.get_solution_metrics(\n",
    "    solutionVersionArn = solution_version_arn\n",
    ")\n",
    "\n",
    "print(json.dumps(get_solution_metrics_response, indent=2))"
   ]
  },
  {
   "cell_type": "markdown",
   "id": "f164726b-12cd-40e3-9775-c5ada8871fdd",
   "metadata": {},
   "source": [
    "## Create your campaign"
   ]
  },
  {
   "cell_type": "code",
   "execution_count": 22,
   "id": "3a483d3b-ba17-4ac2-9910-9b07d0f1a762",
   "metadata": {
    "tags": []
   },
   "outputs": [
    {
     "name": "stdout",
     "output_type": "stream",
     "text": [
      "{\n",
      "  \"campaignArn\": \"arn:aws:personalize:ap-south-1:327664300428:campaign/personalize-demo-camp\",\n",
      "  \"ResponseMetadata\": {\n",
      "    \"RequestId\": \"18c34616-9652-4a23-93c0-918683303411\",\n",
      "    \"HTTPStatusCode\": 200,\n",
      "    \"HTTPHeaders\": {\n",
      "      \"date\": \"Sun, 12 Nov 2023 20:26:14 GMT\",\n",
      "      \"content-type\": \"application/x-amz-json-1.1\",\n",
      "      \"content-length\": \"92\",\n",
      "      \"connection\": \"keep-alive\",\n",
      "      \"x-amzn-requestid\": \"18c34616-9652-4a23-93c0-918683303411\"\n",
      "    },\n",
      "    \"RetryAttempts\": 0\n",
      "  }\n",
      "}\n",
      "Campaign: CREATE PENDING\n",
      "Campaign: CREATE IN_PROGRESS\n",
      "Campaign: CREATE IN_PROGRESS\n",
      "Campaign: CREATE IN_PROGRESS\n",
      "Campaign: CREATE IN_PROGRESS\n",
      "Campaign: CREATE IN_PROGRESS\n",
      "Campaign: CREATE IN_PROGRESS\n",
      "Campaign: CREATE IN_PROGRESS\n",
      "Campaign: CREATE IN_PROGRESS\n",
      "Campaign: ACTIVE\n"
     ]
    }
   ],
   "source": [
    "create_campaign_response = personalize.create_campaign(\n",
    "    name = \"personalize-demo-camp\",\n",
    "    solutionVersionArn = solution_version_arn,\n",
    "    minProvisionedTPS = 1,\n",
    "    campaignConfig = {\n",
    "        \"itemExplorationConfig\": {\n",
    "            \"explorationWeight\": \"0.3\",\n",
    "\t\"explorationItemAgeCutOff\": \"30\"\n",
    "        }\n",
    "    }\n",
    ")\n",
    "\n",
    "campaign_arn = create_campaign_response['campaignArn']\n",
    "print(json.dumps(create_campaign_response, indent=2))\n",
    "\n",
    "max_time = time.time() + 3*60*60 # 3 hours\n",
    "while time.time() < max_time:\n",
    "    describe_campaign_response = personalize.describe_campaign(\n",
    "        campaignArn = campaign_arn\n",
    "    )\n",
    "    status = describe_campaign_response[\"campaign\"][\"status\"]\n",
    "    print(\"Campaign: {}\".format(status))\n",
    "    \n",
    "    if status == \"ACTIVE\" or status == \"CREATE FAILED\":\n",
    "        break\n",
    "        \n",
    "    time.sleep(60)"
   ]
  },
  {
   "cell_type": "code",
   "execution_count": null,
   "id": "fc191c9e-3e4c-4871-b488-6c3c3e2a92fe",
   "metadata": {},
   "outputs": [],
   "source": []
  },
  {
   "cell_type": "markdown",
   "id": "6e28aa36-0be5-4051-8f9d-193bf42a13cc",
   "metadata": {},
   "source": [
    "## Delete everything"
   ]
  },
  {
   "cell_type": "code",
   "execution_count": null,
   "id": "e77e8de7-3795-43ea-889b-5c7428b9cba1",
   "metadata": {},
   "outputs": [],
   "source": [
    "# Delete the campaign\n",
    "personalize.delete_campaign(campaignArn=campaign_arn)\n",
    "time.sleep(300)\n",
    "print(\"delete_campaign done\")\n",
    "# Delete the solution\n",
    "personalize.delete_solution(solutionArn=solution_arn)\n",
    "time.sleep(60)\n",
    "print(\"delete_solution done\")\n",
    "# Delete the interaction dataset\n",
    "personalize.delete_dataset(datasetArn=interactions_dataset_arn)\n",
    "time.sleep(60)\n",
    "print(\"delete_dataset done\")\n",
    "# Delete the schema\n",
    "personalize.delete_schema(schemaArn=interaction_schema_arn)\n",
    "time.sleep(60)\n",
    "print(\"delete_schema done\")\n",
    "# Delete the dataset group\n",
    "personalize.delete_dataset_group(datasetGroupArn = dataset_group_arn)\n",
    "time.sleep(60)\n",
    "print(\"delete_dataset_group done\")"
   ]
  },
  {
   "cell_type": "code",
   "execution_count": null,
   "id": "0bfa02ca-889b-4c55-bc2e-f8d08ac00ce3",
   "metadata": {},
   "outputs": [],
   "source": [
    "# Empty S3 Bucket\n",
    "boto3.Session().resource('s3').Bucket(bucket_name).Object(interactions_filename).delete()\n",
    "# IAM policies should also be removed\n",
    "iam = boto3.client(\"iam\")\n",
    "iam.detach_role_policy(PolicyArn=\"arn:aws:iam::aws:policy/AmazonS3FullAccess\", RoleName=role_name)\n",
    "iam.detach_role_policy(PolicyArn=\"arn:aws:iam::aws:policy/service-role/AmazonPersonalizeFullAccess\",RoleName=role_name)\n",
    "iam.detach_role_policy(PolicyArn=\"arn:aws:iam::aws:policy/service-role/IAMFullAccess\",RoleName=role_name)\n",
    "iam.delete_role(RoleName=role_name)"
   ]
  },
  {
   "cell_type": "code",
   "execution_count": null,
   "id": "868a7333-6107-402a-9011-59928f7dd44c",
   "metadata": {},
   "outputs": [],
   "source": [
    "# go to sagemaker console\n",
    "# stop and delete the notebook instance"
   ]
  }
 ],
 "metadata": {
  "kernelspec": {
   "display_name": "conda_python3",
   "language": "python",
   "name": "conda_python3"
  },
  "language_info": {
   "codemirror_mode": {
    "name": "ipython",
    "version": 3
   },
   "file_extension": ".py",
   "mimetype": "text/x-python",
   "name": "python",
   "nbconvert_exporter": "python",
   "pygments_lexer": "ipython3",
   "version": "3.10.13"
  }
 },
 "nbformat": 4,
 "nbformat_minor": 5
}
